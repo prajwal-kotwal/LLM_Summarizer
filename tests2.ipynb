{
 "cells": [
  {
   "cell_type": "code",
   "execution_count": 24,
   "metadata": {},
   "outputs": [],
   "source": [
    "import google.generativeai as genai\n",
    "import google_api_key as GG\n",
    "\n",
    "genai.configure(api_key=GG.Google_api_key)\n",
    "\n",
    "model = genai.GenerativeModel(\n",
    "    'gemini-1.5-flash',\n",
    "    generation_config=genai.GenerationConfig(\n",
    "        max_output_tokens=20000,\n",
    "        temperature=0.9,\n",
    "    ))"
   ]
  },
  {
   "cell_type": "code",
   "execution_count": 25,
   "metadata": {},
   "outputs": [],
   "source": [
    "# Define the summarization prompt template\n",
    "PROMPT_TEMPLATE = \"\"\"\n",
    "Summarize the following text in a clear, concise, and informative manner.\n",
    "{text}\n",
    "\"\"\"\n"
   ]
  },
  {
   "cell_type": "code",
   "execution_count": 26,
   "metadata": {},
   "outputs": [],
   "source": [
    "import PyPDF2\n",
    "import time"
   ]
  },
  {
   "cell_type": "code",
   "execution_count": 27,
   "metadata": {},
   "outputs": [],
   "source": [
    "def summarize_chunk(chunk):\n",
    "    \"\"\"Summarizes a single chunk of text.\"\"\"\n",
    "    try:\n",
    "        prompt = PROMPT_TEMPLATE.format(text=chunk)\n",
    "        response = model.generate_content(prompt)\n",
    "        return response.text\n",
    "    except Exception as e:\n",
    "        print(f\"Error summarizing chunk: {e}\")\n",
    "        return \"Error summarizing this chunk.\""
   ]
  },
  {
   "cell_type": "code",
   "execution_count": 28,
   "metadata": {},
   "outputs": [],
   "source": [
    "def chunk_text(text, chunk_size):\n",
    "    \"\"\"Splits text into manageable chunks.\"\"\"\n",
    "    words = text.split()\n",
    "    for i in range(0, len(words), chunk_size):\n",
    "        yield \" \".join(words[i:i + chunk_size])"
   ]
  },
  {
   "cell_type": "code",
   "execution_count": 29,
   "metadata": {},
   "outputs": [],
   "source": [
    "def summarize_text(input_text, chunk_size=300):\n",
    "    \"\"\"Splits text into chunks, summarizes each, and combines results.\"\"\"\n",
    "    chunks = list(chunk_text(input_text, chunk_size))\n",
    "    summaries = []\n",
    "    for i, chunk in enumerate(chunks, 1):\n",
    "        print(f\"Summarizing chunk {i}/{len(chunks)}...\")\n",
    "        try:\n",
    "            summaries.append(summarize_chunk(chunk))\n",
    "        except Exception as e:\n",
    "            print(f\"Error with chunk {i}: {e}\")\n",
    "            summaries.append(\"Error in this chunk\")\n",
    "        time.sleep(1)  # Pause for 1 second between API calls\n",
    "    return \" \".join(summaries)"
   ]
  },
  {
   "cell_type": "code",
   "execution_count": 30,
   "metadata": {},
   "outputs": [],
   "source": [
    "def read_pdf(file_path):\n",
    "    with open(file_path, 'rb') as file:\n",
    "        reader = PyPDF2.PdfReader(file)\n",
    "        text = \"\"\n",
    "        for page in reader.pages:\n",
    "            text += page.extract_text()\n",
    "    return text"
   ]
  },
  {
   "cell_type": "code",
   "execution_count": 31,
   "metadata": {},
   "outputs": [],
   "source": [
    "pdf_file_path = 'HP_goblet.pdf'  # Path to your PDF file\n",
    "input_text = read_pdf(pdf_file_path)"
   ]
  },
  {
   "cell_type": "code",
   "execution_count": 32,
   "metadata": {},
   "outputs": [
    {
     "name": "stdout",
     "output_type": "stream",
     "text": [
      "Summarizing chunk 1/71...\n",
      "Summarizing chunk 2/71...\n",
      "Summarizing chunk 3/71...\n",
      "Summarizing chunk 4/71...\n",
      "Summarizing chunk 5/71...\n",
      "Summarizing chunk 6/71...\n",
      "Summarizing chunk 7/71...\n",
      "Summarizing chunk 8/71...\n",
      "Summarizing chunk 9/71...\n",
      "Summarizing chunk 10/71...\n",
      "Summarizing chunk 11/71...\n",
      "Summarizing chunk 12/71...\n",
      "Summarizing chunk 13/71...\n",
      "Summarizing chunk 14/71...\n",
      "Summarizing chunk 15/71...\n",
      "Summarizing chunk 16/71...\n",
      "Summarizing chunk 17/71...\n",
      "Error summarizing chunk: 429 Resource has been exhausted (e.g. check quota).\n",
      "Summarizing chunk 18/71...\n",
      "Summarizing chunk 19/71...\n",
      "Error summarizing chunk: 429 Resource has been exhausted (e.g. check quota).\n",
      "Summarizing chunk 20/71...\n",
      "Error summarizing chunk: 429 Resource has been exhausted (e.g. check quota).\n",
      "Summarizing chunk 21/71...\n",
      "Error summarizing chunk: 429 Resource has been exhausted (e.g. check quota).\n",
      "Summarizing chunk 22/71...\n",
      "Error summarizing chunk: 429 Resource has been exhausted (e.g. check quota).\n",
      "Summarizing chunk 23/71...\n",
      "Error summarizing chunk: 429 Resource has been exhausted (e.g. check quota).\n",
      "Summarizing chunk 24/71...\n",
      "Error summarizing chunk: 429 Resource has been exhausted (e.g. check quota).\n",
      "Summarizing chunk 25/71...\n",
      "Summarizing chunk 26/71...\n",
      "Error summarizing chunk: 429 Resource has been exhausted (e.g. check quota).\n",
      "Summarizing chunk 27/71...\n",
      "Error summarizing chunk: 429 Resource has been exhausted (e.g. check quota).\n",
      "Summarizing chunk 28/71...\n",
      "Error summarizing chunk: 429 Resource has been exhausted (e.g. check quota).\n",
      "Summarizing chunk 29/71...\n",
      "Error summarizing chunk: 429 Resource has been exhausted (e.g. check quota).\n",
      "Summarizing chunk 30/71...\n",
      "Summarizing chunk 31/71...\n",
      "Error summarizing chunk: 429 Resource has been exhausted (e.g. check quota).\n",
      "Summarizing chunk 32/71...\n",
      "Error summarizing chunk: 429 Resource has been exhausted (e.g. check quota).\n",
      "Summarizing chunk 33/71...\n",
      "Error summarizing chunk: 429 Resource has been exhausted (e.g. check quota).\n",
      "Summarizing chunk 34/71...\n",
      "Error summarizing chunk: 429 Resource has been exhausted (e.g. check quota).\n",
      "Summarizing chunk 35/71...\n",
      "Error summarizing chunk: 429 Resource has been exhausted (e.g. check quota).\n",
      "Summarizing chunk 36/71...\n",
      "Error summarizing chunk: 429 Resource has been exhausted (e.g. check quota).\n",
      "Summarizing chunk 37/71...\n",
      "Error summarizing chunk: 429 Resource has been exhausted (e.g. check quota).\n",
      "Summarizing chunk 38/71...\n",
      "Summarizing chunk 39/71...\n",
      "Summarizing chunk 40/71...\n",
      "Summarizing chunk 41/71...\n",
      "Summarizing chunk 42/71...\n",
      "Summarizing chunk 43/71...\n",
      "Summarizing chunk 44/71...\n",
      "Summarizing chunk 45/71...\n",
      "Summarizing chunk 46/71...\n",
      "Summarizing chunk 47/71...\n",
      "Summarizing chunk 48/71...\n",
      "Summarizing chunk 49/71...\n",
      "Summarizing chunk 50/71...\n",
      "Summarizing chunk 51/71...\n",
      "Summarizing chunk 52/71...\n",
      "Summarizing chunk 53/71...\n",
      "Summarizing chunk 54/71...\n",
      "Error summarizing chunk: 429 Resource has been exhausted (e.g. check quota).\n",
      "Summarizing chunk 55/71...\n",
      "Summarizing chunk 56/71...\n",
      "Error summarizing chunk: 429 Resource has been exhausted (e.g. check quota).\n",
      "Summarizing chunk 57/71...\n",
      "Error summarizing chunk: 429 Resource has been exhausted (e.g. check quota).\n",
      "Summarizing chunk 58/71...\n",
      "Error summarizing chunk: 429 Resource has been exhausted (e.g. check quota).\n",
      "Summarizing chunk 59/71...\n",
      "Error summarizing chunk: 429 Resource has been exhausted (e.g. check quota).\n",
      "Summarizing chunk 60/71...\n",
      "Error summarizing chunk: 429 Resource has been exhausted (e.g. check quota).\n",
      "Summarizing chunk 61/71...\n",
      "Error summarizing chunk: 429 Resource has been exhausted (e.g. check quota).\n",
      "Summarizing chunk 62/71...\n",
      "Error summarizing chunk: 429 Resource has been exhausted (e.g. check quota).\n",
      "Summarizing chunk 63/71...\n",
      "Error summarizing chunk: 429 Resource has been exhausted (e.g. check quota).\n",
      "Summarizing chunk 64/71...\n",
      "Error summarizing chunk: 429 Resource has been exhausted (e.g. check quota).\n",
      "Summarizing chunk 65/71...\n",
      "Error summarizing chunk: 429 Resource has been exhausted (e.g. check quota).\n",
      "Summarizing chunk 66/71...\n",
      "Error summarizing chunk: 429 Resource has been exhausted (e.g. check quota).\n",
      "Summarizing chunk 67/71...\n",
      "Error summarizing chunk: 429 Resource has been exhausted (e.g. check quota).\n",
      "Summarizing chunk 68/71...\n",
      "Error summarizing chunk: 429 Resource has been exhausted (e.g. check quota).\n",
      "Summarizing chunk 69/71...\n",
      "Error summarizing chunk: 429 Resource has been exhausted (e.g. check quota).\n",
      "Summarizing chunk 70/71...\n",
      "Summarizing chunk 71/71...\n"
     ]
    }
   ],
   "source": [
    "# Generate the summary with chunking\n",
    "summary = summarize_text(input_text, chunk_size=300)  # Adjust chunk size based on requirements"
   ]
  },
  {
   "cell_type": "code",
   "execution_count": 34,
   "metadata": {},
   "outputs": [
    {
     "name": "stdout",
     "output_type": "stream",
     "text": [
      "Summary generated successfully!\n"
     ]
    }
   ],
   "source": [
    "with open('summary.txt', 'w') as file:\n",
    "    file.write(summary)\n",
    "\n",
    "print(\"Summary generated successfully!\")"
   ]
  },
  {
   "cell_type": "code",
   "execution_count": 35,
   "metadata": {},
   "outputs": [
    {
     "name": "stdout",
     "output_type": "stream",
     "text": [
      "This is a description of *Harry Potter and the Goblet of Fire*, the fourth book in the series.  It follows Harry's desire for normalcy amidst his magical life, contrasting his teenage yearning with the dangerous events unfolding at Hogwarts, including a triwizard tournament and the involvement of other magical schools.  The description also includes praise for previous books in the series.\n",
      " This is the copyright and publication information for J.K. Rowling's *Harry Potter and the Goblet of Fire*, published by Arthur A. Levine Books, an imprint of Scholastic Inc.  It includes copyright details, ISBN numbers, and publisher contact information.  The book's illustrations are by Mary GrandPré.\n",
      " The provided text details the environmental responsibility of a paper manufacturer using 30% post-consumer recycled fiber from sustainably managed forests, and then lists the chapter titles of *Harry Potter and the Goblet of Fire*.\n",
      " The Riddle House, a once-grand manor in Little Hangleton, is now derelict and feared by the villagers. Fifty years prior, the entire Riddle family—an unpopular, wealthy, and rude trio—was found murdered in their home.  While the details of the event are now muddled by time and retellings, the shocking discovery and the mystery surrounding the killer remain a persistent topic of village gossip.\n",
      " Following the Riddle family murders, the village gathered at the pub, only to be interrupted by the Riddles' cook announcing the arrest of their gardener, Frank Bryce.  The cook and other villagers described Bryce as unfriendly and solitary, highlighting the fact that he had a key to the Riddle house and suggesting he committed the crime without forced entry.  The villagers' opinions of Bryce ranged from suspicion to understanding of his post-war trauma.\n",
      " Frank Bryce was accused of murdering the Riddle family in Little Hangleton.  He claimed innocence, stating he only saw a dark-haired teenage boy near the house that day.  However, a medical report revealed the Riddles died mysteriously without any apparent cause of death, despite displaying expressions of terror.  Lacking evidence of foul play, Frank was released.\n",
      " Frank Bryce, suspected of the Riddle House murders, remained to work in its garden despite local suspicion.  Subsequent owners found the house unsettling and left, contributing to its decline.  Though elderly and struggling, Frank continued his obsessive gardening, facing neglect and vandalism from local children.\n",
      " Frank, wrongly suspected of murdering the Riddles, was tormented by local boys.  One night, he noticed lights and flickering fire in the abandoned Riddle House.  Instead of calling the police (whom he distrusted), he used an old key to enter the house through a hidden back door, apparently to intervene.\n",
      " Frank stealthily entered his dark, decaying house, guided by memory and the scent of decay.  He located intruders in a room with a lit fire, overheard a timid voice serving someone, and a chilling, high-pitched voice issuing commands.  The second voice, described as cold and unsettling, ordered someone named \"Wormtail\" closer to the fire.\n",
      " Frank overhears a conversation through a door. Two men, one called \"Wormtail,\" discuss Nagini's whereabouts and their plans to stay at the house for at least a week, delaying their main objective until after the Quidditch World Cup to avoid detection by Ministry officials.  One man is described as small with a black cloak and bald patch. The conversation reveals a connection to the Quidditch World Cup and a deliberate delay in their actions.\n",
      " Frank overhears a coded conversation between two men, one addressed as \"My Lord,\"  referencing the \"Ministry of Magic,\" \"wizards,\" and \"Muggles.\"  The conversation centers on a plan involving Harry Potter, but \"Wormtail\" suggests using another wizard instead to expedite the process, arguing it's not about concern for Harry.  \"My Lord\" considers this alternative.  The overall tone suggests a secretive and potentially dangerous plot.\n",
      " A severely weakened and paranoid dark wizard berates his cowardly and reluctant servant, Wormtail, for suggesting an alternative plan.  The wizard insists on using a boy for his scheme, despite Wormtail's concerns about the boy's protection, and accuses Wormtail of disloyalty and cowardice.  The wizard ultimately silences Wormtail, reaffirming his intention to proceed with his plan.\n",
      " Lord Voldemort, weakened, orders Wormtail to murder Bertha Jorkins to avoid detection and clear their path to Harry Potter.  Wormtail, though initially reluctant and boasting about finding Jorkins, is berated by Voldemort for his lack of brains and unwavering loyalty, despite the usefulness of Jorkins's information.\n",
      " Voldemort rewards Wormtail with a crucial, yet undisclosed, task.  He explains that he killed Bertha Jorkins because she was no longer useful and posed a risk due to their encounter.  Voldemort dismisses Wormtail's fear of being killed, implying his usefulness will continue, at least for now.  The conversation reveals Voldemort's cold-blooded nature and disregard for human life.  An unnamed listener overhears the chilling discussion, highlighting the severity of Voldemort's actions.\n",
      " Frank overheard two men plotting murder, one of whom is planning to kill Harry Potter.  Terrified, Frank is frozen as a gigantic snake slithers towards him, forcing him to choose between the murderers and the deadly reptile.\n",
      " A terrified Frank witnesses a snake slither away from a room where a cold voice, speaking in an unknown language, is heard.  The voice then switches to English, revealing that the snake, named Nagini, has alerted its master to Frank's presence outside the room.  The door bursts open, revealing a frightened man who invites Frank inside.\n",
      " Error summarizing this chunk. Wormtail turns a chair to reveal a figure that kills Frank Bryce with a green light spell.  Two hundred miles away, Harry Potter wakes from a vivid dream, his lightning-bolt scar burning intensely.\n",
      " Error summarizing this chunk. Error summarizing this chunk. Error summarizing this chunk. Error summarizing this chunk. Error summarizing this chunk. Error summarizing this chunk. Harry, worried about recurring pain and a possible curse, doesn't want to burden the Weasleys with his anxieties.  He longs for the guidance of a trusted adult wizard experienced with Dark Magic, and realizes Sirius Black, his godfather recently released from Azkaban, is the perfect person to help.  He begins writing a letter to Sirius.\n",
      " Error summarizing this chunk. Error summarizing this chunk. Error summarizing this chunk. Error summarizing this chunk. The Dursleys forced Harry and Dudley onto a strict fruit and vegetable diet.  However, unbeknownst to Aunt Petunia, Harry secretly received plentiful supplies of sweets and cakes from his friends, including Ron, Hermione, Hagrid, and Sirius, ensuring he wasn't actually deprived.\n",
      " Error summarizing this chunk. Error summarizing this chunk. Error summarizing this chunk. Error summarizing this chunk. Error summarizing this chunk. Error summarizing this chunk. Error summarizing this chunk. Harry received a letter arranging a meeting for Sunday at 5 pm.  He responded, confirming his attendance and then sent a second letter to Sirius Black, informing him of his whereabouts for the summer (Ron Weasley's) and mentioning Quidditch World Cup tickets.\n",
      " Harry, having received a visit from his owl, enjoys birthday cake before leaving the Dursleys' house the next day.  He packs his belongings, including prized possessions like the Invisibility Cloak and his Nimbus 2000,  leaving behind a tense atmosphere caused by the impending arrival of wizards.\n",
      " The Weasleys are visiting the Dursleys' the next day at 5 pm.  Harry worries about the Dursleys' reaction to the Weasleys' attire, fearing their unconventional wizarding clothing will offend them. Uncle Vernon is dressed formally to appear intimidating, while Dudley is frightened after a previous encounter with a wizard left him with a pig's tail in his trousers.  Lunch is tense, with Dudley subdued and Aunt Petunia refusing to eat.\n",
      " The Dursleys awaited the Weasleys' arrival to take Harry to the Burrow.  Harry worried about their transportation since they no longer owned a car.  The tense wait was filled with the Dursleys' characteristic disapproval and Harry's nervous anticipation, which extended past the scheduled pick-up time.\n",
      " A man, slightly disheveled, anxiously awaits late guests.  His impatience grows until a sudden commotion erupts.  The Dursleys are terrified by noises emanating from their blocked-up fireplace, revealing the arrival of unexpected visitors.\n",
      " The Weasley family attempted to reach the Dursleys' house via Floo powder, but found the fireplace blocked by an electric fire.  Trapped in the chimney, they called out to Harry, who informed them of the obstruction and the Weasleys' predicament.  Mr. Weasley, intrigued by the electric fire, devised a plan to escape.\n",
      " The Weasley family, using magic, unexpectedly bursts through the Dursleys' fireplace to retrieve Harry.  Mr. Weasley explains that he temporarily connected the fireplace to the magical Floo Network, causing the damage. He apologizes and promises to quickly repair it.\n",
      " The Weasleys arrive at the Dursleys' house to take Harry to the Burrow.  The Dursleys are shocked and bewildered by Mr. Weasley's magical explanations.  While the Dursleys are too intimidated to speak, Mr. Weasley, fascinated by Muggle technology, attempts polite conversation, much to the Dursleys' discomfort.  Fred and George briefly leave to retrieve Harry's trunk.\n",
      " At the Weasley's, Dudley, terrified by the sounds of Mr. Weasley's trunk, hid behind his parents.  Mr. Weasley, mistaking Dudley's fear for madness, showed him kindness.  Fred and George's arrival and mischievous grins only added to Dudley's distress.  Mr. Weasley then magically lit the fireplace, showcasing his wizardry to the startled Dursleys.\n",
      " The Weasley family, using Floo Powder, depart via fireplace for the Burrow.  Fred and George Weasley, followed by Ron, disappear into emerald flames after saying \"the Burrow!\"  Mr. Weasley then attempts to make the Dursleys acknowledge Harry's goodbye before Harry follows them.\n",
      " While departing through a fireplace, Harry witnesses Dudley choking on a magically enlarged tongue, the result of a toffee given by Fred Weasley.  The Dursleys panic, preventing Mr. Weasley from easily reversing the spell, leaving Dudley's fate momentarily uncertain.\n",
      " A tense confrontation erupts at the Dursleys' house when Mr. Weasley attempts to help.  Uncle Vernon, enraged, throws ornaments at Mr. Weasley, who defends himself with magic.  To escape the chaos, Harry apparates to the Burrow, leaving behind a scene of escalating mayhem involving a screaming Aunt Petunia and a tongue-tied Dudley.\n",
      " At the Weasley's, Harry meets Bill and Charlie Weasley for the first time.  Bill, contrary to Harry's expectations, is relaxed and unconventional, sporting a dragon-hide boot and an earring. Charlie, who works with dragons in Romania, is also described, showing signs of his dangerous profession.  The twins, Fred and George, introduce their new invention, Ton-Tongue Toffee.\n",
      " Mr. Weasley apparated into the kitchen, furious at Fred and George for giving a Muggle boy a magical sweet that made his tongue grow to four feet long.  While Fred and George claimed the boy ate it accidentally, Mr. Weasley scolded them for their actions, which jeopardized wizard-Muggle relations.  Before he could tell Mrs. Weasley, however, she arrived, and Mr. Weasley decided against revealing the prank.\n",
      " At the Weasley house, Harry arrives and finds the family in a tense situation.  Fred and George's mischievous inventions, sold through \"Weasleys' Wizard Wheezes,\" have angered Mrs. Weasley.  To diffuse the tension, Hermione suggests Harry and Ron, along with Ginny and herself, go upstairs, leaving the brothers to face their mother's wrath.  Ron explains that the \"Wizard Wheezes\" are joke products his brothers have secretly been creating.\n",
      " The Weasley twins were secretly making and planning to sell dangerous inventions at Hogwarts, angering their mother who also disapproved of their desire to open a joke shop instead of working at the Ministry of Magic like their father.  Their noisy activities disturbed Percy, who is working on a Ministry report about cauldron thickness standardization.\n",
      " Error summarizing this chunk. Ron introduces his owl, Pigwidgeon (nicknamed Pig), whose name Ginny chose.  He complains about Pig, and also about Percy's obsessive dedication to his job and his boss, Mr. Crouch. Hermione mentions Crookshanks chasing gnomes in the garden. Harry confirms he received the Weasleys' food parcels and the conversation ends with Ron's unspoken question about Sirius Black.\n",
      " Error summarizing this chunk. Error summarizing this chunk. Error summarizing this chunk. Error summarizing this chunk. Error summarizing this chunk. Error summarizing this chunk. Error summarizing this chunk. Error summarizing this chunk. Error summarizing this chunk. Error summarizing this chunk. Error summarizing this chunk. Error summarizing this chunk. Error summarizing this chunk. Error summarizing this chunk. A group of nine, including Harry, Ron, Hermione, and the Weasleys, gathers to use a Portkey—an enchanted object that transports them—to the Quidditch World Cup.  They wait anxiously, finally activating the old boot Portkey, which sends them hurtling through the air.\n",
      " Harry, Ron, and others were transported by a Portkey.  The arrival was rough, throwing most people to the ground, while a few remained standing.  The Portkey arrived at Stoatshead Hill at 5:07 PM.\n",
      "\n"
     ]
    }
   ],
   "source": [
    "print(summary)"
   ]
  },
  {
   "cell_type": "code",
   "execution_count": null,
   "metadata": {},
   "outputs": [],
   "source": []
  }
 ],
 "metadata": {
  "kernelspec": {
   "display_name": "cb",
   "language": "python",
   "name": "python3"
  },
  "language_info": {
   "codemirror_mode": {
    "name": "ipython",
    "version": 3
   },
   "file_extension": ".py",
   "mimetype": "text/x-python",
   "name": "python",
   "nbconvert_exporter": "python",
   "pygments_lexer": "ipython3",
   "version": "3.11.9"
  }
 },
 "nbformat": 4,
 "nbformat_minor": 2
}
