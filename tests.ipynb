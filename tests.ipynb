{
 "cells": [
  {
   "cell_type": "code",
   "execution_count": 26,
   "metadata": {},
   "outputs": [],
   "source": [
    "import google.generativeai as genai\n",
    "import google_api_key as GG"
   ]
  },
  {
   "cell_type": "code",
   "execution_count": 27,
   "metadata": {},
   "outputs": [],
   "source": [
    "genai.configure(api_key=GG.Google_api_key)\n",
    "\n",
    "model = genai.GenerativeModel(\n",
    "    'gemini-1.5-flash',\n",
    "    generation_config=genai.GenerationConfig(\n",
    "        max_output_tokens=20000,\n",
    "        temperature=0.9,\n",
    "    ))"
   ]
  },
  {
   "cell_type": "code",
   "execution_count": 28,
   "metadata": {},
   "outputs": [],
   "source": [
    "# Define the summarization prompt template\n",
    "PROMPT_TEMPLATE = \"\"\"\n",
    "Summarize the following text in a clear, concise, and informative manner. Be sure to include the main characters, key events, and important plot points:\n",
    "{text}\n",
    "\"\"\"\n",
    "\n",
    "def summarize_text(input_text):\n",
    "    # Format the prompt\n",
    "    prompt = PROMPT_TEMPLATE.format(text=input_text)\n",
    "    # Generate summary using the Gemini model\n",
    "    response = model.generate_content(prompt)\n",
    "    return response.text\n"
   ]
  },
  {
   "cell_type": "code",
   "execution_count": 29,
   "metadata": {},
   "outputs": [
    {
     "name": "stdout",
     "output_type": "stream",
     "text": [
      "Original Text:\n",
      " \n",
      "A paragraph is a series of sentences that are organized and coherent, and are all related to a single topic. Almost every piece of writing you do that is longer than a few sentences should be organized into paragraphs. This is because paragraphs show a reader where the subdivisions of an essay begin and end, and thus help the reader see the organization of the essay and grasp its main points.\n",
      "Paragraphs can contain many different kinds of information. A paragraph could contain a series of brief examples or a single long illustration of a general point. It might describe a place, character, or process; narrate a series of events; compare or contrast two or more things; classify items into categories; or describe causes and effects. Regardless of the kind of information they contain, all paragraphs share certain characteristics. One of the most important of these is a topic sentence.\n",
      "\n",
      "\n",
      "Summary:\n",
      " The text explains the importance of paragraphs in writing.  It highlights that paragraphs organize writing into coherent units focused on a single topic, improving readability and comprehension.  Key features discussed include the topic sentence and the diverse types of information paragraphs can convey (examples, descriptions, narratives, comparisons, classifications, and cause-and-effect analyses).  The main point is that paragraphs are essential for structuring longer pieces of writing.\n",
      "\n"
     ]
    }
   ],
   "source": [
    "# Example text to summarize\n",
    "input_text = \"\"\"\n",
    "A paragraph is a series of sentences that are organized and coherent, and are all related to a single topic. Almost every piece of writing you do that is longer than a few sentences should be organized into paragraphs. This is because paragraphs show a reader where the subdivisions of an essay begin and end, and thus help the reader see the organization of the essay and grasp its main points.\n",
    "Paragraphs can contain many different kinds of information. A paragraph could contain a series of brief examples or a single long illustration of a general point. It might describe a place, character, or process; narrate a series of events; compare or contrast two or more things; classify items into categories; or describe causes and effects. Regardless of the kind of information they contain, all paragraphs share certain characteristics. One of the most important of these is a topic sentence.\n",
    "\"\"\"\n",
    "\n",
    "# Generate the summary\n",
    "summary = summarize_text(input_text)\n",
    "print(\"Original Text:\\n\", input_text)\n",
    "print(\"\\nSummary:\\n\", summary)\n"
   ]
  },
  {
   "cell_type": "code",
   "execution_count": 30,
   "metadata": {},
   "outputs": [],
   "source": [
    "# pip install PyPDF2\n"
   ]
  },
  {
   "cell_type": "code",
   "execution_count": 31,
   "metadata": {},
   "outputs": [],
   "source": [
    "import PyPDF2"
   ]
  },
  {
   "cell_type": "code",
   "execution_count": 32,
   "metadata": {},
   "outputs": [
    {
     "name": "stdout",
     "output_type": "stream",
     "text": [
      "Summary saved to 'summary.txt'\n"
     ]
    }
   ],
   "source": [
    "# Read text from a PDF file\n",
    "def read_pdf(file_path):\n",
    "    with open(file_path, 'rb') as file:\n",
    "        reader = PyPDF2.PdfReader(file)\n",
    "        text = \"\"\n",
    "        for page in reader.pages:\n",
    "            text += page.extract_text()\n",
    "    return text\n",
    "\n",
    "# Example usage\n",
    "pdf_file_path = 'HarryPotter.pdf'  # Path to your PDF file\n",
    "input_text = read_pdf(pdf_file_path)\n",
    "\n",
    "# Generate the summary\n",
    "summary = summarize_text(input_text)\n",
    "\n",
    "# Save the summary to a text file\n",
    "with open('summary.txt', 'w') as file:\n",
    "    file.write(summary)\n",
    "\n",
    "print(\"Summary saved to 'summary.txt'\")"
   ]
  },
  {
   "cell_type": "code",
   "execution_count": 33,
   "metadata": {},
   "outputs": [
    {
     "name": "stdout",
     "output_type": "stream",
     "text": [
      "Harry Potter and the Sorcerer's Stone follows the journey of eleven-year-old Harry Potter, an orphan living with his cruel aunt, uncle, (the Dursleys), and spoiled cousin, Dudley.  His seemingly ordinary life is disrupted when he learns he's a wizard.  On his eleventh birthday, Rubeus Hagrid, the gamekeeper of Hogwarts School of Witchcraft and Wizardry, reveals Harry's magical heritage and that his parents were killed by the dark wizard Voldemort, who also attempted to kill Harry as a baby, leaving him with a lightning-shaped scar.\n",
      "\n",
      "Hagrid delivers Harry to Hogwarts, where he's sorted into Gryffindor house.  Harry excels at Quidditch, becoming the youngest Seeker in a century, despite facing challenges from Draco Malfoy and his cronies, who constantly taunt him.  Throughout the year, Harry, along with his friends Ron Weasley and Hermione Granger, unravels a mystery surrounding the Sorcerer's Stone, a legendary object capable of granting immortality and transmuting metals into gold.\n",
      "\n",
      "Their investigation leads them through numerous obstacles within Hogwarts, including a three-headed dog (Fluffy), magical puzzles (a chess game, Devil's Snare, winged keys), and a perilous confrontation with Professor Quirrell, who is unknowingly possessed by Voldemort.  Harry discovers that his mother's love protected him from Voldemort's touch, allowing him to ultimately defeat Quirrell and prevent Voldemort from obtaining the Stone.  The Stone is destroyed, and Harry returns home for the summer, triumphant and forever changed.  Gryffindor wins the house cup due to Dumbledore awarding last-minute points for bravery and loyalty.\n",
      "\n"
     ]
    }
   ],
   "source": [
    "print(summary)"
   ]
  },
  {
   "cell_type": "code",
   "execution_count": null,
   "metadata": {},
   "outputs": [],
   "source": []
  },
  {
   "cell_type": "code",
   "execution_count": null,
   "metadata": {},
   "outputs": [],
   "source": []
  }
 ],
 "metadata": {
  "kernelspec": {
   "display_name": "cb",
   "language": "python",
   "name": "python3"
  },
  "language_info": {
   "codemirror_mode": {
    "name": "ipython",
    "version": 3
   },
   "file_extension": ".py",
   "mimetype": "text/x-python",
   "name": "python",
   "nbconvert_exporter": "python",
   "pygments_lexer": "ipython3",
   "version": "3.11.9"
  }
 },
 "nbformat": 4,
 "nbformat_minor": 2
}
